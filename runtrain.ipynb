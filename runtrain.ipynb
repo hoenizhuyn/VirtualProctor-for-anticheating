{
 "cells": [
  {
   "cell_type": "code",
   "execution_count": 1,
   "metadata": {},
   "outputs": [
    {
     "name": "stderr",
     "output_type": "stream",
     "text": [
      "2024-09-17 00:43:03.460080: I tensorflow/core/util/port.cc:113] oneDNN custom operations are on. You may see slightly different numerical results due to floating-point round-off errors from different computation orders. To turn them off, set the environment variable `TF_ENABLE_ONEDNN_OPTS=0`.\n",
      "2024-09-17 00:43:03.472462: I external/local_tsl/tsl/cuda/cudart_stub.cc:32] Could not find cuda drivers on your machine, GPU will not be used.\n",
      "2024-09-17 00:43:04.109783: I external/local_tsl/tsl/cuda/cudart_stub.cc:32] Could not find cuda drivers on your machine, GPU will not be used.\n",
      "2024-09-17 00:43:07.984903: I tensorflow/core/platform/cpu_feature_guard.cc:210] This TensorFlow binary is optimized to use available CPU instructions in performance-critical operations.\n",
      "To enable the following instructions: AVX2 AVX512F AVX512_VNNI FMA, in other operations, rebuild TensorFlow with the appropriate compiler flags.\n",
      "2024-09-17 00:43:10.521402: W tensorflow/compiler/tf2tensorrt/utils/py_utils.cc:38] TF-TRT Warning: Could not find TensorRT\n"
     ]
    },
    {
     "name": "stdout",
     "output_type": "stream",
     "text": [
      "0\n",
      "0\n",
      "0\n",
      "0\n"
     ]
    }
   ],
   "source": [
    "import csv\n",
    "import pandas as pd\n",
    "from tensorflow import keras\n",
    "from sklearn.model_selection import train_test_split\n",
    "from utils import *\n",
    "import os\n",
    "os.environ['TF_ENABLE_ONEDNN_OPTS'] = '0'\n",
    "os.environ['TF_CPP_MIN_LOG_LEVEL'] = '1' \n",
    "import tensorflow as tf\n",
    "import tensorflowjs as tfjs\n",
    "from preprocess import Preprocessor\n",
    "from train import *\n",
    "\n",
    "_model_dir = 'model'"
   ]
  },
  {
   "cell_type": "code",
   "execution_count": 2,
   "metadata": {},
   "outputs": [
    {
     "name": "stderr",
     "output_type": "stream",
     "text": [
      "  0%|          | 0/816 [00:00<?, ?it/s]"
     ]
    },
    {
     "name": "stderr",
     "output_type": "stream",
     "text": [
      "100%|██████████| 816/816 [00:11<00:00, 74.09it/s] \n",
      "100%|██████████| 386/386 [00:04<00:00, 95.76it/s] \n",
      "100%|██████████| 324/324 [00:04<00:00, 79.25it/s]"
     ]
    },
    {
     "name": "stdout",
     "output_type": "stream",
     "text": [
      "['Skipped 0.jpg:Zone.Identifier - Invalid file type', 'Skipped 1.jpg:Zone.Identifier - Invalid file type', 'Skipped 10.jpg:Zone.Identifier - Invalid file type', 'Skipped 11.jpg:Zone.Identifier - Invalid file type', 'Skipped 12.jpg:Zone.Identifier - Invalid file type', 'Skipped 13.jpg:Zone.Identifier - Invalid file type', 'Skipped 14.jpg:Zone.Identifier - Invalid file type', 'Skipped 15.jpg:Zone.Identifier - Invalid file type', 'Skipped 16.jpg:Zone.Identifier - Invalid file type', 'Skipped 17.jpg:Zone.Identifier - Invalid file type', 'Skipped 18.jpg:Zone.Identifier - Invalid file type', 'Skipped 19.jpg:Zone.Identifier - Invalid file type', 'Skipped 2.jpg:Zone.Identifier - Invalid file type', 'Skipped 20.jpg:Zone.Identifier - Invalid file type', 'Skipped 21.jpg:Zone.Identifier - Invalid file type', 'Skipped 22.jpg:Zone.Identifier - Invalid file type', 'Skipped 23.jpg:Zone.Identifier - Invalid file type', 'Skipped 24.jpg:Zone.Identifier - Invalid file type', 'Skipped 25.jpg:Zone.Identifier - Invalid file type', 'Skipped 26.jpg:Zone.Identifier - Invalid file type', 'Skipped 27.jpg:Zone.Identifier - Invalid file type', 'Skipped 28.jpg:Zone.Identifier - Invalid file type', 'Skipped 29.jpg:Zone.Identifier - Invalid file type', 'Skipped 3.jpg:Zone.Identifier - Invalid file type', 'Skipped 30.jpg:Zone.Identifier - Invalid file type', 'Skipped 31.jpg:Zone.Identifier - Invalid file type', 'Skipped 32.jpg:Zone.Identifier - Invalid file type', 'Skipped 33.jpg:Zone.Identifier - Invalid file type', 'Skipped 34.jpg:Zone.Identifier - Invalid file type', 'Skipped 35.jpg:Zone.Identifier - Invalid file type', 'Skipped 36.jpg:Zone.Identifier - Invalid file type', 'Skipped 37.jpg:Zone.Identifier - Invalid file type', 'Skipped 38.jpg:Zone.Identifier - Invalid file type', 'Skipped 39.jpg:Zone.Identifier - Invalid file type', 'Skipped 4.jpg:Zone.Identifier - Invalid file type', 'Skipped 40.jpg:Zone.Identifier - Invalid file type', 'Skipped 41.jpg:Zone.Identifier - Invalid file type', 'Skipped 42.jpg:Zone.Identifier - Invalid file type', 'Skipped 43.jpg:Zone.Identifier - Invalid file type', 'Skipped 44.jpg:Zone.Identifier - Invalid file type', 'Skipped 45.jpg:Zone.Identifier - Invalid file type', 'Skipped 46.jpg:Zone.Identifier - Invalid file type', 'Skipped 5.jpg:Zone.Identifier - Invalid file type', 'Skipped 6.jpg:Zone.Identifier - Invalid file type', 'Skipped 7.jpg:Zone.Identifier - Invalid file type', 'Skipped 8.jpg:Zone.Identifier - Invalid file type', 'Skipped 9.jpg:Zone.Identifier - Invalid file type', 'Skipped cheat  (1).Identifier - Invalid file type', 'Skipped cheat  (10).Identifier - Invalid file type', 'Skipped cheat  (100).Identifier - Invalid file type', 'Skipped cheat  (101).Identifier - Invalid file type', 'Skipped dataset/train/cheat/cheat  (101).jpg - No valid pose detected', 'Skipped cheat  (102).Identifier - Invalid file type', 'Skipped cheat  (103).Identifier - Invalid file type', 'Skipped cheat  (104).Identifier - Invalid file type', 'Skipped cheat  (105).Identifier - Invalid file type', 'Skipped dataset/train/cheat/cheat  (105).jpg - No valid pose detected', 'Skipped cheat  (106).Identifier - Invalid file type', 'Skipped cheat  (107).Identifier - Invalid file type', 'Skipped cheat  (11).Identifier - Invalid file type', 'Skipped cheat  (12).Identifier - Invalid file type', 'Skipped cheat  (13).Identifier - Invalid file type', 'Skipped cheat  (14).Identifier - Invalid file type', 'Skipped cheat  (15).Identifier - Invalid file type', 'Skipped cheat  (16).Identifier - Invalid file type', 'Skipped cheat  (17).Identifier - Invalid file type', 'Skipped cheat  (18).Identifier - Invalid file type', 'Skipped cheat  (19).Identifier - Invalid file type', 'Skipped cheat  (2).Identifier - Invalid file type', 'Skipped cheat  (20).Identifier - Invalid file type', 'Skipped cheat  (21).Identifier - Invalid file type', 'Skipped cheat  (22).Identifier - Invalid file type', 'Skipped cheat  (23).Identifier - Invalid file type', 'Skipped cheat  (24).Identifier - Invalid file type', 'Skipped cheat  (25).Identifier - Invalid file type', 'Skipped cheat  (26).Identifier - Invalid file type', 'Skipped cheat  (27).Identifier - Invalid file type', 'Skipped cheat  (28).Identifier - Invalid file type', 'Skipped cheat  (29).Identifier - Invalid file type', 'Skipped cheat  (3).Identifier - Invalid file type', 'Skipped cheat  (30).Identifier - Invalid file type', 'Skipped dataset/train/cheat/cheat  (30).jpg - No valid pose detected', 'Skipped cheat  (31).Identifier - Invalid file type', 'Skipped dataset/train/cheat/cheat  (31).jpg - No valid pose detected', 'Skipped cheat  (32).Identifier - Invalid file type', 'Skipped cheat  (33).Identifier - Invalid file type', 'Skipped dataset/train/cheat/cheat  (33).jpg - No valid pose detected', 'Skipped cheat  (34).Identifier - Invalid file type', 'Skipped cheat  (35).Identifier - Invalid file type', 'Skipped cheat  (36).Identifier - Invalid file type', 'Skipped cheat  (37).Identifier - Invalid file type', 'Skipped cheat  (38).Identifier - Invalid file type', 'Skipped cheat  (39).Identifier - Invalid file type', 'Skipped cheat  (4).Identifier - Invalid file type', 'Skipped cheat  (40).Identifier - Invalid file type', 'Skipped cheat  (41).Identifier - Invalid file type', 'Skipped cheat  (42).Identifier - Invalid file type', 'Skipped cheat  (43).Identifier - Invalid file type', 'Skipped cheat  (44).Identifier - Invalid file type', 'Skipped cheat  (45).Identifier - Invalid file type', 'Skipped cheat  (46).Identifier - Invalid file type', 'Skipped cheat  (47).Identifier - Invalid file type', 'Skipped cheat  (48).Identifier - Invalid file type', 'Skipped cheat  (49).Identifier - Invalid file type', 'Skipped cheat  (5).Identifier - Invalid file type', 'Skipped cheat  (50).Identifier - Invalid file type', 'Skipped cheat  (51).Identifier - Invalid file type', 'Skipped cheat  (52).Identifier - Invalid file type', 'Skipped cheat  (53).Identifier - Invalid file type', 'Skipped cheat  (54).Identifier - Invalid file type', 'Skipped cheat  (55).Identifier - Invalid file type', 'Skipped cheat  (56).Identifier - Invalid file type', 'Skipped cheat  (57).Identifier - Invalid file type', 'Skipped cheat  (58).Identifier - Invalid file type', 'Skipped cheat  (59).Identifier - Invalid file type', 'Skipped cheat  (6).Identifier - Invalid file type', 'Skipped cheat  (60).Identifier - Invalid file type', 'Skipped cheat  (61).Identifier - Invalid file type', 'Skipped dataset/train/cheat/cheat  (61).jpg - No valid pose detected', 'Skipped cheat  (62).Identifier - Invalid file type', 'Skipped dataset/train/cheat/cheat  (62).jpg - No valid pose detected', 'Skipped cheat  (63).Identifier - Invalid file type', 'Skipped cheat  (64).Identifier - Invalid file type', 'Skipped cheat  (65).Identifier - Invalid file type', 'Skipped cheat  (66).Identifier - Invalid file type', 'Skipped cheat  (67).Identifier - Invalid file type', 'Skipped cheat  (68).Identifier - Invalid file type', 'Skipped dataset/train/cheat/cheat  (68).jpg - No valid pose detected', 'Skipped cheat  (69).Identifier - Invalid file type', 'Skipped cheat  (7).Identifier - Invalid file type', 'Skipped cheat  (70).Identifier - Invalid file type', 'Skipped cheat  (71).Identifier - Invalid file type', 'Skipped dataset/train/cheat/cheat  (71).jpg - No valid pose detected', 'Skipped cheat  (72).Identifier - Invalid file type', 'Skipped dataset/train/cheat/cheat  (72).jpg - No valid pose detected', 'Skipped cheat  (73).Identifier - Invalid file type', 'Skipped dataset/train/cheat/cheat  (73).jpg - No valid pose detected', 'Skipped cheat  (74).Identifier - Invalid file type', 'Skipped dataset/train/cheat/cheat  (74).jpg - No valid pose detected', 'Skipped cheat  (75).Identifier - Invalid file type', 'Skipped dataset/train/cheat/cheat  (75).jpg - No valid pose detected', 'Skipped cheat  (76).Identifier - Invalid file type', 'Skipped dataset/train/cheat/cheat  (76).jpg - No valid pose detected', 'Skipped cheat  (77).Identifier - Invalid file type', 'Skipped dataset/train/cheat/cheat  (77).jpg - No valid pose detected', 'Skipped cheat  (78).Identifier - Invalid file type', 'Skipped dataset/train/cheat/cheat  (78).jpg - No valid pose detected', 'Skipped cheat  (79).Identifier - Invalid file type', 'Skipped cheat  (8).Identifier - Invalid file type', 'Skipped cheat  (80).Identifier - Invalid file type', 'Skipped cheat  (81).Identifier - Invalid file type', 'Skipped cheat  (82).Identifier - Invalid file type', 'Skipped cheat  (83).Identifier - Invalid file type', 'Skipped cheat  (84).Identifier - Invalid file type', 'Skipped cheat  (85).Identifier - Invalid file type', 'Skipped dataset/train/cheat/cheat  (85).jpg - No valid pose detected', 'Skipped cheat  (86).Identifier - Invalid file type', 'Skipped cheat  (87).Identifier - Invalid file type', 'Skipped cheat  (88).Identifier - Invalid file type', 'Skipped cheat  (89).Identifier - Invalid file type', 'Skipped cheat  (9).Identifier - Invalid file type', 'Skipped cheat  (90).Identifier - Invalid file type', 'Skipped cheat  (91).Identifier - Invalid file type', 'Skipped cheat  (92).Identifier - Invalid file type', 'Skipped dataset/train/cheat/cheat  (92).jpg - No valid pose detected', 'Skipped cheat  (93).Identifier - Invalid file type', 'Skipped cheat  (94).Identifier - Invalid file type', 'Skipped dataset/train/cheat/cheat  (94).jpg - No valid pose detected', 'Skipped cheat  (95).Identifier - Invalid file type', 'Skipped dataset/train/cheat/cheat  (95).jpg - No valid pose detected', 'Skipped cheat  (96).Identifier - Invalid file type', 'Skipped dataset/train/cheat/cheat  (96).jpg - No valid pose detected', 'Skipped cheat  (97).Identifier - Invalid file type', 'Skipped dataset/train/cheat/cheat  (97).jpg - No valid pose detected', 'Skipped cheat  (98).Identifier - Invalid file type', 'Skipped dataset/train/cheat/cheat  (98).jpg - No valid pose detected', 'Skipped cheat  (99).Identifier - Invalid file type', 'Skipped dataset/train/cheat/cheat  (99).jpg - No valid pose detected', 'Skipped cheat (1).Identifier - Invalid file type', 'Skipped cheat (10).Identifier - Invalid file type', 'Skipped cheat (100).Identifier - Invalid file type', 'Skipped cheat (101).Identifier - Invalid file type', 'Skipped cheat (102).Identifier - Invalid file type', 'Skipped cheat (103).Identifier - Invalid file type', 'Skipped cheat (104).Identifier - Invalid file type', 'Skipped cheat (105).Identifier - Invalid file type', 'Skipped cheat (106).Identifier - Invalid file type', 'Skipped cheat (107).Identifier - Invalid file type', 'Skipped cheat (108).Identifier - Invalid file type', 'Skipped cheat (109).Identifier - Invalid file type', 'Skipped cheat (11).Identifier - Invalid file type', 'Skipped cheat (110).Identifier - Invalid file type', 'Skipped cheat (111).Identifier - Invalid file type', 'Skipped cheat (112).Identifier - Invalid file type', 'Skipped cheat (113).Identifier - Invalid file type', 'Skipped cheat (114).Identifier - Invalid file type', 'Skipped cheat (115).Identifier - Invalid file type', 'Skipped cheat (116).Identifier - Invalid file type', 'Skipped cheat (117).Identifier - Invalid file type', 'Skipped cheat (118).Identifier - Invalid file type', 'Skipped cheat (119).Identifier - Invalid file type', 'Skipped cheat (12).Identifier - Invalid file type', 'Skipped cheat (120).Identifier - Invalid file type', 'Skipped cheat (121).Identifier - Invalid file type', 'Skipped cheat (122).Identifier - Invalid file type', 'Skipped cheat (123).Identifier - Invalid file type', 'Skipped cheat (124).Identifier - Invalid file type', 'Skipped cheat (125).Identifier - Invalid file type', 'Skipped cheat (126).Identifier - Invalid file type', 'Skipped cheat (127).Identifier - Invalid file type', 'Skipped cheat (128).Identifier - Invalid file type', 'Skipped cheat (129).Identifier - Invalid file type', 'Skipped cheat (13).Identifier - Invalid file type', 'Skipped cheat (130).Identifier - Invalid file type', 'Skipped cheat (131).Identifier - Invalid file type', 'Skipped cheat (132).Identifier - Invalid file type', 'Skipped cheat (133).Identifier - Invalid file type', 'Skipped cheat (134).Identifier - Invalid file type', 'Skipped cheat (135).Identifier - Invalid file type', 'Skipped cheat (136).Identifier - Invalid file type', 'Skipped cheat (137).Identifier - Invalid file type', 'Skipped cheat (138).Identifier - Invalid file type', 'Skipped cheat (139).Identifier - Invalid file type', 'Skipped cheat (14).Identifier - Invalid file type', 'Skipped cheat (140).Identifier - Invalid file type', 'Skipped cheat (141).Identifier - Invalid file type', 'Skipped cheat (142).Identifier - Invalid file type', 'Skipped cheat (143).Identifier - Invalid file type', 'Skipped cheat (144).Identifier - Invalid file type', 'Skipped cheat (145).Identifier - Invalid file type', 'Skipped cheat (146).Identifier - Invalid file type', 'Skipped cheat (147).Identifier - Invalid file type', 'Skipped cheat (148).Identifier - Invalid file type', 'Skipped cheat (149).Identifier - Invalid file type', 'Skipped cheat (15).Identifier - Invalid file type', 'Skipped cheat (150).Identifier - Invalid file type', 'Skipped cheat (151).Identifier - Invalid file type', 'Skipped cheat (152).Identifier - Invalid file type', 'Skipped cheat (153).Identifier - Invalid file type', 'Skipped cheat (154).Identifier - Invalid file type', 'Skipped cheat (155).Identifier - Invalid file type', 'Skipped cheat (156).Identifier - Invalid file type', 'Skipped cheat (157).Identifier - Invalid file type', 'Skipped cheat (158).Identifier - Invalid file type', 'Skipped cheat (159).Identifier - Invalid file type', 'Skipped cheat (16).Identifier - Invalid file type', 'Skipped cheat (160).Identifier - Invalid file type', 'Skipped cheat (161).Identifier - Invalid file type', 'Skipped cheat (162).Identifier - Invalid file type', 'Skipped cheat (163).Identifier - Invalid file type', 'Skipped cheat (164).Identifier - Invalid file type', 'Skipped cheat (165).Identifier - Invalid file type', 'Skipped cheat (166).Identifier - Invalid file type', 'Skipped cheat (167).Identifier - Invalid file type', 'Skipped cheat (168).Identifier - Invalid file type', 'Skipped cheat (169).Identifier - Invalid file type', 'Skipped cheat (17).Identifier - Invalid file type', 'Skipped cheat (170).Identifier - Invalid file type', 'Skipped cheat (171).Identifier - Invalid file type', 'Skipped cheat (172).Identifier - Invalid file type', 'Skipped cheat (173).Identifier - Invalid file type', 'Skipped cheat (174).Identifier - Invalid file type', 'Skipped cheat (175).Identifier - Invalid file type', 'Skipped cheat (176).Identifier - Invalid file type', 'Skipped cheat (177).Identifier - Invalid file type', 'Skipped cheat (178).Identifier - Invalid file type', 'Skipped cheat (179).Identifier - Invalid file type', 'Skipped cheat (18).Identifier - Invalid file type', 'Skipped cheat (180).Identifier - Invalid file type', 'Skipped cheat (181).Identifier - Invalid file type', 'Skipped dataset/train/cheat/cheat (181).jpg - No valid pose detected', 'Skipped cheat (182).Identifier - Invalid file type', 'Skipped dataset/train/cheat/cheat (182).jpg - No valid pose detected', 'Skipped cheat (183).Identifier - Invalid file type', 'Skipped dataset/train/cheat/cheat (183).jpg - No valid pose detected', 'Skipped cheat (184).Identifier - Invalid file type', 'Skipped cheat (185).Identifier - Invalid file type', 'Skipped cheat (186).Identifier - Invalid file type', 'Skipped cheat (187).Identifier - Invalid file type', 'Skipped cheat (188).Identifier - Invalid file type', 'Skipped cheat (189).Identifier - Invalid file type', 'Skipped cheat (19).Identifier - Invalid file type', 'Skipped cheat (190).Identifier - Invalid file type', 'Skipped cheat (191).Identifier - Invalid file type', 'Skipped cheat (192).Identifier - Invalid file type', 'Skipped cheat (193).Identifier - Invalid file type', 'Skipped cheat (194).Identifier - Invalid file type', 'Skipped cheat (195).Identifier - Invalid file type', 'Skipped cheat (196).Identifier - Invalid file type', 'Skipped cheat (197).Identifier - Invalid file type', 'Skipped cheat (198).Identifier - Invalid file type', 'Skipped cheat (199).Identifier - Invalid file type', 'Skipped cheat (2).Identifier - Invalid file type', 'Skipped cheat (20).Identifier - Invalid file type', 'Skipped cheat (200).Identifier - Invalid file type', 'Skipped cheat (201).Identifier - Invalid file type', 'Skipped cheat (202).Identifier - Invalid file type', 'Skipped cheat (203).Identifier - Invalid file type', 'Skipped cheat (204).Identifier - Invalid file type', 'Skipped cheat (205).Identifier - Invalid file type', 'Skipped dataset/train/cheat/cheat (205).jpg - No valid pose detected', 'Skipped cheat (206).Identifier - Invalid file type', 'Skipped cheat (207).Identifier - Invalid file type', 'Skipped cheat (208).Identifier - Invalid file type', 'Skipped cheat (209).Identifier - Invalid file type', 'Skipped cheat (21).Identifier - Invalid file type', 'Skipped cheat (210).Identifier - Invalid file type', 'Skipped dataset/train/cheat/cheat (210).jpg - No valid pose detected', 'Skipped cheat (211).Identifier - Invalid file type', 'Skipped cheat (212).Identifier - Invalid file type', 'Skipped cheat (213).Identifier - Invalid file type', 'Skipped cheat (214).Identifier - Invalid file type', 'Skipped cheat (215).Identifier - Invalid file type', 'Skipped cheat (216).Identifier - Invalid file type', 'Skipped cheat (217).Identifier - Invalid file type', 'Skipped cheat (218).Identifier - Invalid file type', 'Skipped cheat (219).Identifier - Invalid file type', 'Skipped cheat (22).Identifier - Invalid file type', 'Skipped cheat (220).Identifier - Invalid file type', 'Skipped cheat (221).Identifier - Invalid file type', 'Skipped cheat (222).Identifier - Invalid file type', 'Skipped cheat (223).Identifier - Invalid file type', 'Skipped cheat (224).Identifier - Invalid file type', 'Skipped cheat (225).Identifier - Invalid file type', 'Skipped cheat (226).Identifier - Invalid file type', 'Skipped cheat (227).Identifier - Invalid file type', 'Skipped cheat (228).Identifier - Invalid file type', 'Skipped cheat (229).Identifier - Invalid file type', 'Skipped cheat (23).Identifier - Invalid file type', 'Skipped cheat (230).Identifier - Invalid file type', 'Skipped cheat (231).Identifier - Invalid file type', 'Skipped cheat (232).Identifier - Invalid file type', 'Skipped cheat (233).Identifier - Invalid file type', 'Skipped cheat (234).Identifier - Invalid file type', 'Skipped cheat (235).Identifier - Invalid file type', 'Skipped cheat (236).Identifier - Invalid file type', 'Skipped cheat (237).Identifier - Invalid file type', 'Skipped cheat (238).Identifier - Invalid file type', 'Skipped cheat (239).Identifier - Invalid file type', 'Skipped cheat (24).Identifier - Invalid file type', 'Skipped cheat (240).Identifier - Invalid file type', 'Skipped cheat (241).Identifier - Invalid file type', 'Skipped cheat (242).Identifier - Invalid file type', 'Skipped cheat (243).Identifier - Invalid file type', 'Skipped cheat (244).Identifier - Invalid file type', 'Skipped cheat (245).Identifier - Invalid file type', 'Skipped cheat (246).Identifier - Invalid file type', 'Skipped cheat (247).Identifier - Invalid file type', 'Skipped cheat (248).Identifier - Invalid file type', 'Skipped cheat (249).Identifier - Invalid file type', 'Skipped cheat (25).Identifier - Invalid file type', 'Skipped cheat (250).Identifier - Invalid file type', 'Skipped cheat (251).Identifier - Invalid file type', 'Skipped cheat (252).Identifier - Invalid file type', 'Skipped cheat (253).Identifier - Invalid file type', 'Skipped cheat (254).Identifier - Invalid file type', 'Skipped cheat (26).Identifier - Invalid file type', 'Skipped cheat (27).Identifier - Invalid file type', 'Skipped cheat (28).Identifier - Invalid file type', 'Skipped cheat (29).Identifier - Invalid file type', 'Skipped cheat (3).Identifier - Invalid file type', 'Skipped cheat (30).Identifier - Invalid file type', 'Skipped cheat (31).Identifier - Invalid file type', 'Skipped cheat (32).Identifier - Invalid file type', 'Skipped cheat (33).Identifier - Invalid file type', 'Skipped cheat (34).Identifier - Invalid file type', 'Skipped cheat (35).Identifier - Invalid file type', 'Skipped cheat (36).Identifier - Invalid file type', 'Skipped cheat (37).Identifier - Invalid file type', 'Skipped cheat (38).Identifier - Invalid file type', 'Skipped cheat (39).Identifier - Invalid file type', 'Skipped cheat (4).Identifier - Invalid file type', 'Skipped cheat (40).Identifier - Invalid file type', 'Skipped cheat (41).Identifier - Invalid file type', 'Skipped cheat (42).Identifier - Invalid file type', 'Skipped cheat (43).Identifier - Invalid file type', 'Skipped cheat (44).Identifier - Invalid file type', 'Skipped dataset/train/cheat/cheat (44).jpg - No valid pose detected', 'Skipped cheat (45).Identifier - Invalid file type', 'Skipped dataset/train/cheat/cheat (45).jpg - No valid pose detected', 'Skipped cheat (46).Identifier - Invalid file type', 'Skipped dataset/train/cheat/cheat (46).jpg - No valid pose detected', 'Skipped cheat (47).Identifier - Invalid file type', 'Skipped cheat (48).Identifier - Invalid file type', 'Skipped cheat (49).Identifier - Invalid file type', 'Skipped cheat (5).Identifier - Invalid file type', 'Skipped cheat (50).Identifier - Invalid file type', 'Skipped cheat (51).Identifier - Invalid file type', 'Skipped cheat (52).Identifier - Invalid file type', 'Skipped cheat (53).Identifier - Invalid file type', 'Skipped cheat (54).Identifier - Invalid file type', 'Skipped cheat (55).Identifier - Invalid file type', 'Skipped cheat (56).Identifier - Invalid file type', 'Skipped cheat (57).Identifier - Invalid file type', 'Skipped cheat (58).Identifier - Invalid file type', 'Skipped cheat (59).Identifier - Invalid file type', 'Skipped dataset/train/cheat/cheat (59).jpg - No valid pose detected', 'Skipped cheat (6).Identifier - Invalid file type', 'Skipped cheat (60).Identifier - Invalid file type', 'Skipped cheat (61).Identifier - Invalid file type', 'Skipped cheat (62).Identifier - Invalid file type', 'Skipped cheat (63).Identifier - Invalid file type', 'Skipped cheat (64).Identifier - Invalid file type', 'Skipped cheat (65).Identifier - Invalid file type', 'Skipped cheat (66).Identifier - Invalid file type', 'Skipped cheat (67).Identifier - Invalid file type', 'Skipped cheat (68).Identifier - Invalid file type', 'Skipped cheat (69).Identifier - Invalid file type', 'Skipped cheat (7).Identifier - Invalid file type', 'Skipped cheat (70).Identifier - Invalid file type', 'Skipped cheat (71).Identifier - Invalid file type', 'Skipped cheat (72).Identifier - Invalid file type', 'Skipped cheat (73).Identifier - Invalid file type', 'Skipped cheat (74).Identifier - Invalid file type', 'Skipped cheat (75).Identifier - Invalid file type', 'Skipped cheat (76).Identifier - Invalid file type', 'Skipped cheat (77).Identifier - Invalid file type', 'Skipped cheat (78).Identifier - Invalid file type', 'Skipped cheat (79).Identifier - Invalid file type', 'Skipped cheat (8).Identifier - Invalid file type', 'Skipped cheat (80).Identifier - Invalid file type', 'Skipped cheat (81).Identifier - Invalid file type', 'Skipped cheat (82).Identifier - Invalid file type', 'Skipped cheat (83).Identifier - Invalid file type', 'Skipped cheat (84).Identifier - Invalid file type', 'Skipped cheat (85).Identifier - Invalid file type', 'Skipped cheat (86).Identifier - Invalid file type', 'Skipped cheat (87).Identifier - Invalid file type', 'Skipped cheat (88).Identifier - Invalid file type', 'Skipped cheat (89).Identifier - Invalid file type', 'Skipped cheat (9).Identifier - Invalid file type', 'Skipped cheat (90).Identifier - Invalid file type', 'Skipped cheat (91).Identifier - Invalid file type', 'Skipped cheat (92).Identifier - Invalid file type', 'Skipped cheat (93).Identifier - Invalid file type', 'Skipped cheat (94).Identifier - Invalid file type', 'Skipped cheat (95).Identifier - Invalid file type', 'Skipped cheat (96).Identifier - Invalid file type', 'Skipped cheat (97).Identifier - Invalid file type', 'Skipped cheat (98).Identifier - Invalid file type', 'Skipped cheat (99).Identifier - Invalid file type', 'Skipped 0.jpg:Zone.Identifier - Invalid file type', 'Skipped 1.jpg:Zone.Identifier - Invalid file type', 'Skipped dataset/train/sit/10.jpg - No valid pose detected', 'Skipped 10.jpg:Zone.Identifier - Invalid file type', 'Skipped 100.jpg:Zone.Identifier - Invalid file type', 'Skipped 101.jpg:Zone.Identifier - Invalid file type', 'Skipped 102.jpg:Zone.Identifier - Invalid file type', 'Skipped 103.jpg:Zone.Identifier - Invalid file type', 'Skipped 104.jpg:Zone.Identifier - Invalid file type', 'Skipped 105.jpg:Zone.Identifier - Invalid file type', 'Skipped 106.jpg:Zone.Identifier - Invalid file type', 'Skipped 107.jpg:Zone.Identifier - Invalid file type', 'Skipped 108.jpg:Zone.Identifier - Invalid file type', 'Skipped 109.jpg:Zone.Identifier - Invalid file type', 'Skipped 11.jpg:Zone.Identifier - Invalid file type', 'Skipped 110.jpg:Zone.Identifier - Invalid file type', 'Skipped 111.jpg:Zone.Identifier - Invalid file type', 'Skipped 112.jpg:Zone.Identifier - Invalid file type', 'Skipped 113.jpg:Zone.Identifier - Invalid file type', 'Skipped 114.jpg:Zone.Identifier - Invalid file type', 'Skipped 115.jpg:Zone.Identifier - Invalid file type', 'Skipped 116.jpg:Zone.Identifier - Invalid file type', 'Skipped 117.jpg:Zone.Identifier - Invalid file type', 'Skipped 118.jpg:Zone.Identifier - Invalid file type', 'Skipped 119.jpg:Zone.Identifier - Invalid file type', 'Skipped dataset/train/sit/12.jpg - No valid pose detected', 'Skipped 12.jpg:Zone.Identifier - Invalid file type', 'Skipped 120.jpg:Zone.Identifier - Invalid file type', 'Skipped 121.jpg:Zone.Identifier - Invalid file type', 'Skipped 122.jpg:Zone.Identifier - Invalid file type', 'Skipped 123.jpg:Zone.Identifier - Invalid file type', 'Skipped 124.jpg:Zone.Identifier - Invalid file type', 'Skipped 125.jpg:Zone.Identifier - Invalid file type', 'Skipped 126.jpg:Zone.Identifier - Invalid file type', 'Skipped 127.jpg:Zone.Identifier - Invalid file type', 'Skipped 128.jpg:Zone.Identifier - Invalid file type', 'Skipped 129.jpg:Zone.Identifier - Invalid file type', 'Skipped dataset/train/sit/13.jpg - No valid pose detected', 'Skipped 13.jpg:Zone.Identifier - Invalid file type', 'Skipped 130.jpg:Zone.Identifier - Invalid file type', 'Skipped 131.jpg:Zone.Identifier - Invalid file type', 'Skipped 132.jpg:Zone.Identifier - Invalid file type', 'Skipped 133.jpg:Zone.Identifier - Invalid file type', 'Skipped 134.jpg:Zone.Identifier - Invalid file type', 'Skipped 135.jpg:Zone.Identifier - Invalid file type', 'Skipped 136.jpg:Zone.Identifier - Invalid file type', 'Skipped 137.jpg:Zone.Identifier - Invalid file type', 'Skipped 138.jpg:Zone.Identifier - Invalid file type', 'Skipped 139.jpg:Zone.Identifier - Invalid file type', 'Skipped dataset/train/sit/14.jpg - No valid pose detected', 'Skipped 14.jpg:Zone.Identifier - Invalid file type', 'Skipped 140.jpg:Zone.Identifier - Invalid file type', 'Skipped 141.jpg:Zone.Identifier - Invalid file type', 'Skipped 142.jpg:Zone.Identifier - Invalid file type', 'Skipped 143.jpg:Zone.Identifier - Invalid file type', 'Skipped 144.jpg:Zone.Identifier - Invalid file type', 'Skipped 145.jpg:Zone.Identifier - Invalid file type', 'Skipped 146.jpg:Zone.Identifier - Invalid file type', 'Skipped 147.jpg:Zone.Identifier - Invalid file type', 'Skipped 148.jpg:Zone.Identifier - Invalid file type', 'Skipped 149.jpg:Zone.Identifier - Invalid file type', 'Skipped dataset/train/sit/15.jpg - No valid pose detected', 'Skipped 15.jpg:Zone.Identifier - Invalid file type', 'Skipped 150.jpg:Zone.Identifier - Invalid file type', 'Skipped 151.jpg:Zone.Identifier - Invalid file type', 'Skipped 152.jpg:Zone.Identifier - Invalid file type', 'Skipped 153.jpg:Zone.Identifier - Invalid file type', 'Skipped 154.jpg:Zone.Identifier - Invalid file type', 'Skipped 155.jpg:Zone.Identifier - Invalid file type', 'Skipped 156.jpg:Zone.Identifier - Invalid file type', 'Skipped 157.jpg:Zone.Identifier - Invalid file type', 'Skipped 158.jpg:Zone.Identifier - Invalid file type', 'Skipped 159.jpg:Zone.Identifier - Invalid file type', 'Skipped 16.jpg:Zone.Identifier - Invalid file type', 'Skipped 160.jpg:Zone.Identifier - Invalid file type', 'Skipped 161.jpg:Zone.Identifier - Invalid file type', 'Skipped 162.jpg:Zone.Identifier - Invalid file type', 'Skipped 163.jpg:Zone.Identifier - Invalid file type', 'Skipped 164.jpg:Zone.Identifier - Invalid file type', 'Skipped 165.jpg:Zone.Identifier - Invalid file type', 'Skipped 166.jpg:Zone.Identifier - Invalid file type', 'Skipped 167.jpg:Zone.Identifier - Invalid file type', 'Skipped 168.jpg:Zone.Identifier - Invalid file type', 'Skipped 169.jpg:Zone.Identifier - Invalid file type', 'Skipped 17.jpg:Zone.Identifier - Invalid file type', 'Skipped 170.jpg:Zone.Identifier - Invalid file type', 'Skipped 171.jpg:Zone.Identifier - Invalid file type', 'Skipped 172.jpg:Zone.Identifier - Invalid file type', 'Skipped 173.jpg:Zone.Identifier - Invalid file type', 'Skipped 174.jpg:Zone.Identifier - Invalid file type', 'Skipped 175.jpg:Zone.Identifier - Invalid file type', 'Skipped 176.jpg:Zone.Identifier - Invalid file type', 'Skipped 177.jpg:Zone.Identifier - Invalid file type', 'Skipped 178.jpg:Zone.Identifier - Invalid file type', 'Skipped dataset/train/sit/179.jpg - No valid pose detected', 'Skipped 179.jpg:Zone.Identifier - Invalid file type', 'Skipped 18.jpg:Zone.Identifier - Invalid file type', 'Skipped dataset/train/sit/180.jpg - No valid pose detected', 'Skipped 180.jpg:Zone.Identifier - Invalid file type', 'Skipped dataset/train/sit/181.jpg - No valid pose detected', 'Skipped 181.jpg:Zone.Identifier - Invalid file type', 'Skipped dataset/train/sit/182.jpg - No valid pose detected', 'Skipped 182.jpg:Zone.Identifier - Invalid file type', 'Skipped dataset/train/sit/183.jpg - No valid pose detected', 'Skipped 183.jpg:Zone.Identifier - Invalid file type', 'Skipped dataset/train/sit/184.jpg - No valid pose detected', 'Skipped 184.jpg:Zone.Identifier - Invalid file type', 'Skipped dataset/train/sit/185.jpg - No valid pose detected', 'Skipped 185.jpg:Zone.Identifier - Invalid file type', 'Skipped dataset/train/sit/186.jpg - No valid pose detected', 'Skipped 186.jpg:Zone.Identifier - Invalid file type', 'Skipped dataset/train/sit/187.jpg - No valid pose detected', 'Skipped 187.jpg:Zone.Identifier - Invalid file type', 'Skipped dataset/train/sit/188.jpg - No valid pose detected', 'Skipped 188.jpg:Zone.Identifier - Invalid file type', 'Skipped dataset/train/sit/189.jpg - No valid pose detected', 'Skipped 189.jpg:Zone.Identifier - Invalid file type', 'Skipped 19.jpg:Zone.Identifier - Invalid file type', 'Skipped dataset/train/sit/190.jpg - No valid pose detected', 'Skipped 190.jpg:Zone.Identifier - Invalid file type', 'Skipped dataset/train/sit/191.jpg - No valid pose detected', 'Skipped 191.jpg:Zone.Identifier - Invalid file type', 'Skipped dataset/train/sit/192.jpg - No valid pose detected', 'Skipped 192.jpg:Zone.Identifier - Invalid file type', 'Skipped 2.jpg:Zone.Identifier - Invalid file type', 'Skipped 20.jpg:Zone.Identifier - Invalid file type', 'Skipped 21.jpg:Zone.Identifier - Invalid file type', 'Skipped 22.jpg:Zone.Identifier - Invalid file type', 'Skipped 23.jpg:Zone.Identifier - Invalid file type', 'Skipped 24.jpg:Zone.Identifier - Invalid file type', 'Skipped 25.jpg:Zone.Identifier - Invalid file type', 'Skipped 26.jpg:Zone.Identifier - Invalid file type', 'Skipped dataset/train/sit/27.jpg - No valid pose detected', 'Skipped 27.jpg:Zone.Identifier - Invalid file type', 'Skipped dataset/train/sit/28.jpg - No valid pose detected', 'Skipped 28.jpg:Zone.Identifier - Invalid file type', 'Skipped dataset/train/sit/29.jpg - No valid pose detected', 'Skipped 29.jpg:Zone.Identifier - Invalid file type', 'Skipped 3.jpg:Zone.Identifier - Invalid file type', 'Skipped dataset/train/sit/30.jpg - No valid pose detected', 'Skipped 30.jpg:Zone.Identifier - Invalid file type', 'Skipped dataset/train/sit/31.jpg - No valid pose detected', 'Skipped 31.jpg:Zone.Identifier - Invalid file type', 'Skipped dataset/train/sit/32.jpg - No valid pose detected', 'Skipped 32.jpg:Zone.Identifier - Invalid file type', 'Skipped dataset/train/sit/33.jpg - No valid pose detected', 'Skipped 33.jpg:Zone.Identifier - Invalid file type', 'Skipped dataset/train/sit/34.jpg - No valid pose detected', 'Skipped 34.jpg:Zone.Identifier - Invalid file type', 'Skipped dataset/train/sit/35.jpg - No valid pose detected', 'Skipped 35.jpg:Zone.Identifier - Invalid file type', 'Skipped dataset/train/sit/36.jpg - No valid pose detected', 'Skipped 36.jpg:Zone.Identifier - Invalid file type', 'Skipped dataset/train/sit/37.jpg - No valid pose detected', 'Skipped 37.jpg:Zone.Identifier - Invalid file type', 'Skipped dataset/train/sit/38.jpg - No valid pose detected', 'Skipped 38.jpg:Zone.Identifier - Invalid file type', 'Skipped dataset/train/sit/39.jpg - No valid pose detected', 'Skipped 39.jpg:Zone.Identifier - Invalid file type', 'Skipped dataset/train/sit/4.jpg - No valid pose detected', 'Skipped 4.jpg:Zone.Identifier - Invalid file type', 'Skipped dataset/train/sit/40.jpg - No valid pose detected', 'Skipped 40.jpg:Zone.Identifier - Invalid file type', 'Skipped dataset/train/sit/41.jpg - No valid pose detected', 'Skipped 41.jpg:Zone.Identifier - Invalid file type', 'Skipped dataset/train/sit/42.jpg - No valid pose detected', 'Skipped 42.jpg:Zone.Identifier - Invalid file type', 'Skipped dataset/train/sit/43.jpg - No valid pose detected', 'Skipped 43.jpg:Zone.Identifier - Invalid file type', 'Skipped dataset/train/sit/44.jpg - No valid pose detected', 'Skipped 44.jpg:Zone.Identifier - Invalid file type', 'Skipped dataset/train/sit/45.jpg - No valid pose detected', 'Skipped 45.jpg:Zone.Identifier - Invalid file type', 'Skipped dataset/train/sit/46.jpg - No valid pose detected', 'Skipped 46.jpg:Zone.Identifier - Invalid file type', 'Skipped dataset/train/sit/47.jpg - No valid pose detected', 'Skipped 47.jpg:Zone.Identifier - Invalid file type', 'Skipped dataset/train/sit/48.jpg - No valid pose detected', 'Skipped 48.jpg:Zone.Identifier - Invalid file type', 'Skipped dataset/train/sit/49.jpg - No valid pose detected', 'Skipped 49.jpg:Zone.Identifier - Invalid file type', 'Skipped 5.jpg:Zone.Identifier - Invalid file type', 'Skipped dataset/train/sit/50.jpg - No valid pose detected', 'Skipped 50.jpg:Zone.Identifier - Invalid file type', 'Skipped dataset/train/sit/51.jpg - No valid pose detected', 'Skipped 51.jpg:Zone.Identifier - Invalid file type', 'Skipped dataset/train/sit/52.jpg - No valid pose detected', 'Skipped 52.jpg:Zone.Identifier - Invalid file type', 'Skipped dataset/train/sit/53.jpg - No valid pose detected', 'Skipped 53.jpg:Zone.Identifier - Invalid file type', 'Skipped dataset/train/sit/54.jpg - No valid pose detected', 'Skipped 54.jpg:Zone.Identifier - Invalid file type', 'Skipped dataset/train/sit/55.jpg - No valid pose detected', 'Skipped 55.jpg:Zone.Identifier - Invalid file type', 'Skipped dataset/train/sit/56.jpg - No valid pose detected', 'Skipped 56.jpg:Zone.Identifier - Invalid file type', 'Skipped dataset/train/sit/57.jpg - No valid pose detected', 'Skipped 57.jpg:Zone.Identifier - Invalid file type', 'Skipped dataset/train/sit/58.jpg - No valid pose detected', 'Skipped 58.jpg:Zone.Identifier - Invalid file type', 'Skipped dataset/train/sit/59.jpg - No valid pose detected', 'Skipped 59.jpg:Zone.Identifier - Invalid file type', 'Skipped 6.jpg:Zone.Identifier - Invalid file type', 'Skipped dataset/train/sit/60.jpg - No valid pose detected', 'Skipped 60.jpg:Zone.Identifier - Invalid file type', 'Skipped dataset/train/sit/61.jpg - No valid pose detected', 'Skipped 61.jpg:Zone.Identifier - Invalid file type', 'Skipped dataset/train/sit/62.jpg - No valid pose detected', 'Skipped 62.jpg:Zone.Identifier - Invalid file type', 'Skipped dataset/train/sit/63.jpg - No valid pose detected', 'Skipped 63.jpg:Zone.Identifier - Invalid file type', 'Skipped dataset/train/sit/64.jpg - No valid pose detected', 'Skipped 64.jpg:Zone.Identifier - Invalid file type', 'Skipped dataset/train/sit/65.jpg - No valid pose detected', 'Skipped 65.jpg:Zone.Identifier - Invalid file type', 'Skipped 66.jpg:Zone.Identifier - Invalid file type', 'Skipped 67.jpg:Zone.Identifier - Invalid file type', 'Skipped 68.jpg:Zone.Identifier - Invalid file type', 'Skipped 69.jpg:Zone.Identifier - Invalid file type', 'Skipped 7.jpg:Zone.Identifier - Invalid file type', 'Skipped 70.jpg:Zone.Identifier - Invalid file type', 'Skipped 71.jpg:Zone.Identifier - Invalid file type', 'Skipped 72.jpg:Zone.Identifier - Invalid file type', 'Skipped 73.jpg:Zone.Identifier - Invalid file type', 'Skipped 74.jpg:Zone.Identifier - Invalid file type', 'Skipped 75.jpg:Zone.Identifier - Invalid file type', 'Skipped 76.jpg:Zone.Identifier - Invalid file type', 'Skipped 77.jpg:Zone.Identifier - Invalid file type', 'Skipped 78.jpg:Zone.Identifier - Invalid file type', 'Skipped 79.jpg:Zone.Identifier - Invalid file type', 'Skipped 8.jpg:Zone.Identifier - Invalid file type', 'Skipped 80.jpg:Zone.Identifier - Invalid file type', 'Skipped 81.jpg:Zone.Identifier - Invalid file type', 'Skipped 82.jpg:Zone.Identifier - Invalid file type', 'Skipped 83.jpg:Zone.Identifier - Invalid file type', 'Skipped 84.jpg:Zone.Identifier - Invalid file type', 'Skipped 85.jpg:Zone.Identifier - Invalid file type', 'Skipped 86.jpg:Zone.Identifier - Invalid file type', 'Skipped 87.jpg:Zone.Identifier - Invalid file type', 'Skipped 88.jpg:Zone.Identifier - Invalid file type', 'Skipped 89.jpg:Zone.Identifier - Invalid file type', 'Skipped 9.jpg:Zone.Identifier - Invalid file type', 'Skipped 90.jpg:Zone.Identifier - Invalid file type', 'Skipped 91.jpg:Zone.Identifier - Invalid file type', 'Skipped 92.jpg:Zone.Identifier - Invalid file type', 'Skipped 93.jpg:Zone.Identifier - Invalid file type', 'Skipped 94.jpg:Zone.Identifier - Invalid file type', 'Skipped 95.jpg:Zone.Identifier - Invalid file type', 'Skipped 96.jpg:Zone.Identifier - Invalid file type', 'Skipped 97.jpg:Zone.Identifier - Invalid file type', 'Skipped 98.jpg:Zone.Identifier - Invalid file type', 'Skipped 99.jpg:Zone.Identifier - Invalid file type', 'Skipped 0.jpg:Zone.Identifier - Invalid file type', 'Skipped 1.jpg:Zone.Identifier - Invalid file type', 'Skipped 10.jpg:Zone.Identifier - Invalid file type', 'Skipped 100.jpg:Zone.Identifier - Invalid file type', 'Skipped 101.jpg:Zone.Identifier - Invalid file type', 'Skipped 102.jpg:Zone.Identifier - Invalid file type', 'Skipped 103.jpg:Zone.Identifier - Invalid file type', 'Skipped 104.jpg:Zone.Identifier - Invalid file type', 'Skipped 105.jpg:Zone.Identifier - Invalid file type', 'Skipped 106.jpg:Zone.Identifier - Invalid file type', 'Skipped 107.jpg:Zone.Identifier - Invalid file type', 'Skipped 108.jpg:Zone.Identifier - Invalid file type', 'Skipped 109.jpg:Zone.Identifier - Invalid file type', 'Skipped 11.jpg:Zone.Identifier - Invalid file type', 'Skipped 110.jpg:Zone.Identifier - Invalid file type', 'Skipped 111.jpg:Zone.Identifier - Invalid file type', 'Skipped 112.jpg:Zone.Identifier - Invalid file type', 'Skipped 113.jpg:Zone.Identifier - Invalid file type', 'Skipped 114.jpg:Zone.Identifier - Invalid file type', 'Skipped 115.jpg:Zone.Identifier - Invalid file type', 'Skipped 116.jpg:Zone.Identifier - Invalid file type', 'Skipped 117.jpg:Zone.Identifier - Invalid file type', 'Skipped 118.jpg:Zone.Identifier - Invalid file type', 'Skipped 119.jpg:Zone.Identifier - Invalid file type', 'Skipped 12.jpg:Zone.Identifier - Invalid file type', 'Skipped 120.jpg:Zone.Identifier - Invalid file type', 'Skipped 121.jpg:Zone.Identifier - Invalid file type', 'Skipped 122.jpg:Zone.Identifier - Invalid file type', 'Skipped 123.jpg:Zone.Identifier - Invalid file type', 'Skipped 124.jpg:Zone.Identifier - Invalid file type', 'Skipped 125.jpg:Zone.Identifier - Invalid file type', 'Skipped 126.jpg:Zone.Identifier - Invalid file type', 'Skipped 127.jpg:Zone.Identifier - Invalid file type', 'Skipped 128.jpg:Zone.Identifier - Invalid file type', 'Skipped 129.jpg:Zone.Identifier - Invalid file type', 'Skipped 13.jpg:Zone.Identifier - Invalid file type', 'Skipped 130.jpg:Zone.Identifier - Invalid file type', 'Skipped 131.jpg:Zone.Identifier - Invalid file type', 'Skipped 132.jpg:Zone.Identifier - Invalid file type', 'Skipped 133.jpg:Zone.Identifier - Invalid file type', 'Skipped 134.jpg:Zone.Identifier - Invalid file type', 'Skipped 135.jpg:Zone.Identifier - Invalid file type', 'Skipped 136.jpg:Zone.Identifier - Invalid file type', 'Skipped 137.jpg:Zone.Identifier - Invalid file type', 'Skipped 138.jpg:Zone.Identifier - Invalid file type', 'Skipped 139.jpg:Zone.Identifier - Invalid file type', 'Skipped 14.jpg:Zone.Identifier - Invalid file type', 'Skipped 140.jpg:Zone.Identifier - Invalid file type', 'Skipped 141.jpg:Zone.Identifier - Invalid file type', 'Skipped 142.jpg:Zone.Identifier - Invalid file type', 'Skipped 143.jpg:Zone.Identifier - Invalid file type', 'Skipped 144.jpg:Zone.Identifier - Invalid file type', 'Skipped 145.jpg:Zone.Identifier - Invalid file type', 'Skipped 146.jpg:Zone.Identifier - Invalid file type', 'Skipped 147.jpg:Zone.Identifier - Invalid file type', 'Skipped 148.jpg:Zone.Identifier - Invalid file type', 'Skipped 149.jpg:Zone.Identifier - Invalid file type', 'Skipped 15.jpg:Zone.Identifier - Invalid file type', 'Skipped 150.jpg:Zone.Identifier - Invalid file type', 'Skipped 151.jpg:Zone.Identifier - Invalid file type', 'Skipped 152.jpg:Zone.Identifier - Invalid file type', 'Skipped 153.jpg:Zone.Identifier - Invalid file type', 'Skipped 154.jpg:Zone.Identifier - Invalid file type', 'Skipped 155.jpg:Zone.Identifier - Invalid file type', 'Skipped 156.jpg:Zone.Identifier - Invalid file type', 'Skipped 157.jpg:Zone.Identifier - Invalid file type', 'Skipped 158.jpg:Zone.Identifier - Invalid file type', 'Skipped 159.jpg:Zone.Identifier - Invalid file type', 'Skipped 16.jpg:Zone.Identifier - Invalid file type', 'Skipped 160.jpg:Zone.Identifier - Invalid file type', 'Skipped 161.jpg:Zone.Identifier - Invalid file type', 'Skipped 17.jpg:Zone.Identifier - Invalid file type', 'Skipped 18.jpg:Zone.Identifier - Invalid file type', 'Skipped 19.jpg:Zone.Identifier - Invalid file type', 'Skipped 2.jpg:Zone.Identifier - Invalid file type', 'Skipped 20.jpg:Zone.Identifier - Invalid file type', 'Skipped 21.jpg:Zone.Identifier - Invalid file type', 'Skipped 22.jpg:Zone.Identifier - Invalid file type', 'Skipped 23.jpg:Zone.Identifier - Invalid file type', 'Skipped 24.jpg:Zone.Identifier - Invalid file type', 'Skipped 25.jpg:Zone.Identifier - Invalid file type', 'Skipped 26.jpg:Zone.Identifier - Invalid file type', 'Skipped 27.jpg:Zone.Identifier - Invalid file type', 'Skipped 28.jpg:Zone.Identifier - Invalid file type', 'Skipped 29.jpg:Zone.Identifier - Invalid file type', 'Skipped 3.jpg:Zone.Identifier - Invalid file type', 'Skipped 30.jpg:Zone.Identifier - Invalid file type', 'Skipped 31.jpg:Zone.Identifier - Invalid file type', 'Skipped 32.jpg:Zone.Identifier - Invalid file type', 'Skipped 33.jpg:Zone.Identifier - Invalid file type', 'Skipped 34.jpg:Zone.Identifier - Invalid file type', 'Skipped 35.jpg:Zone.Identifier - Invalid file type', 'Skipped 36.jpg:Zone.Identifier - Invalid file type', 'Skipped 37.jpg:Zone.Identifier - Invalid file type', 'Skipped 38.jpg:Zone.Identifier - Invalid file type', 'Skipped 39.jpg:Zone.Identifier - Invalid file type', 'Skipped 4.jpg:Zone.Identifier - Invalid file type', 'Skipped 40.jpg:Zone.Identifier - Invalid file type', 'Skipped 41.jpg:Zone.Identifier - Invalid file type', 'Skipped 42.jpg:Zone.Identifier - Invalid file type', 'Skipped 43.jpg:Zone.Identifier - Invalid file type', 'Skipped 44.jpg:Zone.Identifier - Invalid file type', 'Skipped 45.jpg:Zone.Identifier - Invalid file type', 'Skipped 46.jpg:Zone.Identifier - Invalid file type', 'Skipped 47.jpg:Zone.Identifier - Invalid file type', 'Skipped 48.jpg:Zone.Identifier - Invalid file type', 'Skipped 49.jpg:Zone.Identifier - Invalid file type', 'Skipped 5.jpg:Zone.Identifier - Invalid file type', 'Skipped 50.jpg:Zone.Identifier - Invalid file type', 'Skipped 51.jpg:Zone.Identifier - Invalid file type', 'Skipped 52.jpg:Zone.Identifier - Invalid file type', 'Skipped 53.jpg:Zone.Identifier - Invalid file type', 'Skipped 54.jpg:Zone.Identifier - Invalid file type', 'Skipped 55.jpg:Zone.Identifier - Invalid file type', 'Skipped 56.jpg:Zone.Identifier - Invalid file type', 'Skipped 57.jpg:Zone.Identifier - Invalid file type', 'Skipped 58.jpg:Zone.Identifier - Invalid file type', 'Skipped 59.jpg:Zone.Identifier - Invalid file type', 'Skipped 6.jpg:Zone.Identifier - Invalid file type', 'Skipped 60.jpg:Zone.Identifier - Invalid file type', 'Skipped 61.jpg:Zone.Identifier - Invalid file type', 'Skipped 62.jpg:Zone.Identifier - Invalid file type', 'Skipped 63.jpg:Zone.Identifier - Invalid file type', 'Skipped 64.jpg:Zone.Identifier - Invalid file type', 'Skipped 65.jpg:Zone.Identifier - Invalid file type', 'Skipped 66.jpg:Zone.Identifier - Invalid file type', 'Skipped 67.jpg:Zone.Identifier - Invalid file type', 'Skipped 68.jpg:Zone.Identifier - Invalid file type', 'Skipped 69.jpg:Zone.Identifier - Invalid file type', 'Skipped 7.jpg:Zone.Identifier - Invalid file type', 'Skipped 70.jpg:Zone.Identifier - Invalid file type', 'Skipped 71.jpg:Zone.Identifier - Invalid file type', 'Skipped 72.jpg:Zone.Identifier - Invalid file type', 'Skipped 73.jpg:Zone.Identifier - Invalid file type', 'Skipped 74.jpg:Zone.Identifier - Invalid file type', 'Skipped 75.jpg:Zone.Identifier - Invalid file type', 'Skipped 76.jpg:Zone.Identifier - Invalid file type', 'Skipped 77.jpg:Zone.Identifier - Invalid file type', 'Skipped 78.jpg:Zone.Identifier - Invalid file type', 'Skipped 79.jpg:Zone.Identifier - Invalid file type', 'Skipped 8.jpg:Zone.Identifier - Invalid file type', 'Skipped 80.jpg:Zone.Identifier - Invalid file type', 'Skipped 81.jpg:Zone.Identifier - Invalid file type', 'Skipped 82.jpg:Zone.Identifier - Invalid file type', 'Skipped 83.jpg:Zone.Identifier - Invalid file type', 'Skipped 84.jpg:Zone.Identifier - Invalid file type', 'Skipped 85.jpg:Zone.Identifier - Invalid file type', 'Skipped 86.jpg:Zone.Identifier - Invalid file type', 'Skipped 87.jpg:Zone.Identifier - Invalid file type', 'Skipped 88.jpg:Zone.Identifier - Invalid file type', 'Skipped 89.jpg:Zone.Identifier - Invalid file type', 'Skipped 9.jpg:Zone.Identifier - Invalid file type', 'Skipped 90.jpg:Zone.Identifier - Invalid file type', 'Skipped 91.jpg:Zone.Identifier - Invalid file type', 'Skipped 92.jpg:Zone.Identifier - Invalid file type', 'Skipped 93.jpg:Zone.Identifier - Invalid file type', 'Skipped 94.jpg:Zone.Identifier - Invalid file type', 'Skipped 95.jpg:Zone.Identifier - Invalid file type', 'Skipped 96.jpg:Zone.Identifier - Invalid file type', 'Skipped 97.jpg:Zone.Identifier - Invalid file type', 'Skipped 98.jpg:Zone.Identifier - Invalid file type', 'Skipped 99.jpg:Zone.Identifier - Invalid file type']\n"
     ]
    },
    {
     "name": "stderr",
     "output_type": "stream",
     "text": [
      "\n"
     ]
    },
    {
     "data": {
      "text/plain": [
       "<bound method NDFrame.head of     filename  NOSE_x  NOSE_y  NOSE_score  LEFT_EYE_x  LEFT_EYE_y  \\\n",
       "0      0.jpg    61.0    58.0    0.536201        56.0        54.0   \n",
       "1      1.jpg    60.0    54.0    0.583177        54.0        51.0   \n",
       "2     10.jpg    98.0    55.0    0.588507        93.0        50.0   \n",
       "3     11.jpg   114.0    67.0    0.540989       111.0        62.0   \n",
       "4     12.jpg   118.0    80.0    0.504765       114.0        75.0   \n",
       "..       ...     ...     ...         ...         ...         ...   \n",
       "666   95.jpg    63.0    27.0    0.696270        68.0        23.0   \n",
       "667   96.jpg    68.0    26.0    0.716201        72.0        23.0   \n",
       "668   97.jpg    74.0    29.0    0.526421        77.0        24.0   \n",
       "669   98.jpg    81.0    30.0    0.711263        84.0        26.0   \n",
       "670   99.jpg    86.0    30.0    0.605774        89.0        26.0   \n",
       "\n",
       "     LEFT_EYE_score  RIGHT_EYE_x  RIGHT_EYE_y  RIGHT_EYE_score  ...  \\\n",
       "0          0.577895         61.0         54.0         0.583147  ...   \n",
       "1          0.489608         61.0         51.0         0.548783  ...   \n",
       "2          0.669657        102.0         51.0         0.661743  ...   \n",
       "3          0.566992        117.0         64.0         0.633604  ...   \n",
       "4          0.575702        122.0         77.0         0.452206  ...   \n",
       "..              ...          ...          ...              ...  ...   \n",
       "666        0.715212         64.0         23.0         0.644881  ...   \n",
       "667        0.837937         69.0         23.0         0.564718  ...   \n",
       "668        0.583708         76.0         24.0         0.669899  ...   \n",
       "669        0.661397         83.0         26.0         0.484895  ...   \n",
       "670        0.774973         88.0         26.0         0.663396  ...   \n",
       "\n",
       "     RIGHT_KNEE_y  RIGHT_KNEE_score  LEFT_ANKLE_x  LEFT_ANKLE_y  \\\n",
       "0           157.0          0.549269         119.0         100.0   \n",
       "1           152.0          0.583414          63.0         200.0   \n",
       "2           144.0          0.857548          68.0         205.0   \n",
       "3           148.0          0.754459         116.0         154.0   \n",
       "4           158.0          0.864396          66.0         212.0   \n",
       "..            ...               ...           ...           ...   \n",
       "666         146.0          0.655079          95.0         186.0   \n",
       "667         139.0          0.572781          96.0         185.0   \n",
       "668         139.0          0.720009          97.0         183.0   \n",
       "669         141.0          0.475003          96.0         190.0   \n",
       "670         144.0          0.679597          96.0         188.0   \n",
       "\n",
       "     LEFT_ANKLE_score  RIGHT_ANKLE_x  RIGHT_ANKLE_y  RIGHT_ANKLE_score  \\\n",
       "0            0.057309          119.0          100.0           0.207210   \n",
       "1            0.504383          121.0          100.0           0.218614   \n",
       "2            0.734145          135.0          195.0           0.783915   \n",
       "3            0.171024          136.0          195.0           0.406614   \n",
       "4            0.437089          134.0          211.0           0.457650   \n",
       "..                ...            ...            ...                ...   \n",
       "666          0.761802           49.0          187.0           0.765378   \n",
       "667          0.775078           60.0          181.0           0.665607   \n",
       "668          0.735610           80.0          175.0           0.604869   \n",
       "669          0.669710          106.0          165.0           0.503608   \n",
       "670          0.773109          122.0          168.0           0.620181   \n",
       "\n",
       "     class_no  class_name  \n",
       "0           0       cheat  \n",
       "1           0       cheat  \n",
       "2           0       cheat  \n",
       "3           0       cheat  \n",
       "4           0       cheat  \n",
       "..        ...         ...  \n",
       "666         2       stand  \n",
       "667         2       stand  \n",
       "668         2       stand  \n",
       "669         2       stand  \n",
       "670         2       stand  \n",
       "\n",
       "[671 rows x 54 columns]>"
      ]
     },
     "execution_count": 2,
     "metadata": {},
     "output_type": "execute_result"
    }
   ],
   "source": [
    "train= make_df(\"dataset\", \"train\")\n",
    "train.head"
   ]
  },
  {
   "cell_type": "code",
   "execution_count": 3,
   "metadata": {},
   "outputs": [],
   "source": [
    "X, y, class_names = load_data(train)\n",
    "X_train, X_temp, y_train, y_temp = train_test_split(X, y, test_size=0.3, random_state=42)\n",
    "# Second split: validation and test sets\n",
    "X_val, X_test, y_val, y_test = train_test_split(X_temp, y_temp, test_size=0.5, random_state=42)\n"
   ]
  },
  {
   "cell_type": "code",
   "execution_count": 4,
   "metadata": {},
   "outputs": [],
   "source": [
    "processed_X_train = preprocess_data(X_train)\n",
    "processed_X_val =  preprocess_data(X_val)\n",
    "processed_X_test = preprocess_data(X_test)\n",
    "# print(\"process x train\", processed_X_train)\n",
    "# print(\"process x test\", processed_X_test)\n",
    "\n",
    "inputs = tf.keras.Input(shape=(34,))\n",
    "layer = keras.layers.Dense(128, activation=tf.nn.relu6)(inputs)\n",
    "layer = keras.layers.Dropout(0.5)(layer)\n",
    "layer = keras.layers.Dense(64, activation=tf.nn.relu6)(layer)\n",
    "layer = keras.layers.Dropout(0.5)(layer)\n",
    "outputs = keras.layers.Dense(len(class_names), activation=\"softmax\")(layer)\n"
   ]
  },
  {
   "cell_type": "code",
   "execution_count": 5,
   "metadata": {},
   "outputs": [],
   "source": [
    "model = keras.Model(inputs, outputs)\n",
    "model.compile(\n",
    "    optimizer='adam',\n",
    "    loss='categorical_crossentropy',\n",
    "    metrics=['accuracy']\n",
    ")\n",
    "\n",
    "# Add a checkpoint callback to store the checkpoint that has the highest\n",
    "# validation accuracy.\n",
    "# Update checkpoint path to use the .keras extension\n",
    "checkpoint_path = \"weights.best.keras\"\n",
    "\n",
    "checkpoint = keras.callbacks.ModelCheckpoint(checkpoint_path,\n",
    "                                             monitor='val_accuracy',\n",
    "                                             verbose=1,\n",
    "                                             save_best_only=True,\n",
    "                                             mode='max')\n",
    "\n",
    "earlystopping = keras.callbacks.EarlyStopping(monitor='val_accuracy', \n",
    "                                              patience=20)\n"
   ]
  },
  {
   "cell_type": "code",
   "execution_count": 6,
   "metadata": {},
   "outputs": [
    {
     "name": "stdout",
     "output_type": "stream",
     "text": [
      "--------------TRAINING----------------\n",
      "Epoch 1/200\n",
      "\u001b[1m17/30\u001b[0m \u001b[32m━━━━━━━━━━━\u001b[0m\u001b[37m━━━━━━━━━\u001b[0m \u001b[1m0s\u001b[0m 3ms/step - accuracy: 0.4123 - loss: 1.0653\n",
      "Epoch 1: val_accuracy improved from -inf to 0.57426, saving model to weights.best.keras\n",
      "\u001b[1m30/30\u001b[0m \u001b[32m━━━━━━━━━━━━━━━━━━━━\u001b[0m\u001b[37m\u001b[0m \u001b[1m2s\u001b[0m 13ms/step - accuracy: 0.4515 - loss: 1.0380 - val_accuracy: 0.5743 - val_loss: 0.8595\n",
      "Epoch 2/200\n",
      "\u001b[1m23/30\u001b[0m \u001b[32m━━━━━━━━━━━━━━━\u001b[0m\u001b[37m━━━━━\u001b[0m \u001b[1m0s\u001b[0m 2ms/step - accuracy: 0.6040 - loss: 0.8483 \n",
      "Epoch 2: val_accuracy improved from 0.57426 to 0.80198, saving model to weights.best.keras\n",
      "\u001b[1m30/30\u001b[0m \u001b[32m━━━━━━━━━━━━━━━━━━━━\u001b[0m\u001b[37m\u001b[0m \u001b[1m0s\u001b[0m 4ms/step - accuracy: 0.6040 - loss: 0.8407 - val_accuracy: 0.8020 - val_loss: 0.6800\n",
      "Epoch 3/200\n",
      "\u001b[1m24/30\u001b[0m \u001b[32m━━━━━━━━━━━━━━━━\u001b[0m\u001b[37m━━━━\u001b[0m \u001b[1m0s\u001b[0m 2ms/step - accuracy: 0.7504 - loss: 0.7065 \n",
      "Epoch 3: val_accuracy improved from 0.80198 to 0.93069, saving model to weights.best.keras\n",
      "\u001b[1m30/30\u001b[0m \u001b[32m━━━━━━━━━━━━━━━━━━━━\u001b[0m\u001b[37m\u001b[0m \u001b[1m0s\u001b[0m 4ms/step - accuracy: 0.7551 - loss: 0.6966 - val_accuracy: 0.9307 - val_loss: 0.4993\n",
      "Epoch 4/200\n",
      "\u001b[1m27/30\u001b[0m \u001b[32m━━━━━━━━━━━━━━━━━━\u001b[0m\u001b[37m━━\u001b[0m \u001b[1m0s\u001b[0m 2ms/step - accuracy: 0.8596 - loss: 0.5409 \n",
      "Epoch 4: val_accuracy did not improve from 0.93069\n",
      "\u001b[1m30/30\u001b[0m \u001b[32m━━━━━━━━━━━━━━━━━━━━\u001b[0m\u001b[37m\u001b[0m \u001b[1m0s\u001b[0m 3ms/step - accuracy: 0.8605 - loss: 0.5364 - val_accuracy: 0.9307 - val_loss: 0.3604\n",
      "Epoch 5/200\n",
      "\u001b[1m 1/30\u001b[0m \u001b[37m━━━━━━━━━━━━━━━━━━━━\u001b[0m \u001b[1m0s\u001b[0m 28ms/step - accuracy: 0.9375 - loss: 0.3348\n",
      "Epoch 5: val_accuracy did not improve from 0.93069\n",
      "\u001b[1m30/30\u001b[0m \u001b[32m━━━━━━━━━━━━━━━━━━━━\u001b[0m\u001b[37m\u001b[0m \u001b[1m0s\u001b[0m 3ms/step - accuracy: 0.9040 - loss: 0.3803 - val_accuracy: 0.9109 - val_loss: 0.2600\n",
      "Epoch 6/200\n",
      "\u001b[1m29/30\u001b[0m \u001b[32m━━━━━━━━━━━━━━━━━━━\u001b[0m\u001b[37m━\u001b[0m \u001b[1m0s\u001b[0m 2ms/step - accuracy: 0.9191 - loss: 0.3064 \n",
      "Epoch 6: val_accuracy did not improve from 0.93069\n",
      "\u001b[1m30/30\u001b[0m \u001b[32m━━━━━━━━━━━━━━━━━━━━\u001b[0m\u001b[37m\u001b[0m \u001b[1m0s\u001b[0m 4ms/step - accuracy: 0.9190 - loss: 0.3063 - val_accuracy: 0.9208 - val_loss: 0.1968\n",
      "Epoch 7/200\n",
      "\u001b[1m 1/30\u001b[0m \u001b[37m━━━━━━━━━━━━━━━━━━━━\u001b[0m \u001b[1m1s\u001b[0m 40ms/step - accuracy: 1.0000 - loss: 0.2064\n",
      "Epoch 7: val_accuracy did not improve from 0.93069\n",
      "\u001b[1m30/30\u001b[0m \u001b[32m━━━━━━━━━━━━━━━━━━━━\u001b[0m\u001b[37m\u001b[0m \u001b[1m0s\u001b[0m 3ms/step - accuracy: 0.9063 - loss: 0.2665 - val_accuracy: 0.9307 - val_loss: 0.1590\n",
      "Epoch 8/200\n",
      "\u001b[1m 1/30\u001b[0m \u001b[37m━━━━━━━━━━━━━━━━━━━━\u001b[0m \u001b[1m0s\u001b[0m 22ms/step - accuracy: 0.8750 - loss: 0.2029\n",
      "Epoch 8: val_accuracy improved from 0.93069 to 0.96040, saving model to weights.best.keras\n",
      "\u001b[1m30/30\u001b[0m \u001b[32m━━━━━━━━━━━━━━━━━━━━\u001b[0m\u001b[37m\u001b[0m \u001b[1m0s\u001b[0m 3ms/step - accuracy: 0.9194 - loss: 0.2249 - val_accuracy: 0.9604 - val_loss: 0.1283\n",
      "Epoch 9/200\n",
      "\u001b[1m 1/30\u001b[0m \u001b[37m━━━━━━━━━━━━━━━━━━━━\u001b[0m \u001b[1m0s\u001b[0m 22ms/step - accuracy: 0.9375 - loss: 0.1788\n",
      "Epoch 9: val_accuracy improved from 0.96040 to 0.99010, saving model to weights.best.keras\n",
      "\u001b[1m30/30\u001b[0m \u001b[32m━━━━━━━━━━━━━━━━━━━━\u001b[0m\u001b[37m\u001b[0m \u001b[1m0s\u001b[0m 3ms/step - accuracy: 0.9631 - loss: 0.1657 - val_accuracy: 0.9901 - val_loss: 0.1072\n",
      "Epoch 10/200\n",
      "\u001b[1m 1/30\u001b[0m \u001b[37m━━━━━━━━━━━━━━━━━━━━\u001b[0m \u001b[1m0s\u001b[0m 23ms/step - accuracy: 1.0000 - loss: 0.0632\n",
      "Epoch 10: val_accuracy did not improve from 0.99010\n",
      "\u001b[1m30/30\u001b[0m \u001b[32m━━━━━━━━━━━━━━━━━━━━\u001b[0m\u001b[37m\u001b[0m \u001b[1m0s\u001b[0m 2ms/step - accuracy: 0.9545 - loss: 0.1401 - val_accuracy: 0.9901 - val_loss: 0.0901\n",
      "Epoch 11/200\n",
      "\u001b[1m 1/30\u001b[0m \u001b[37m━━━━━━━━━━━━━━━━━━━━\u001b[0m \u001b[1m0s\u001b[0m 22ms/step - accuracy: 1.0000 - loss: 0.1352\n",
      "Epoch 11: val_accuracy did not improve from 0.99010\n",
      "\u001b[1m30/30\u001b[0m \u001b[32m━━━━━━━━━━━━━━━━━━━━\u001b[0m\u001b[37m\u001b[0m \u001b[1m0s\u001b[0m 3ms/step - accuracy: 0.9683 - loss: 0.1496 - val_accuracy: 0.9901 - val_loss: 0.0891\n",
      "Epoch 12/200\n",
      "\u001b[1m 1/30\u001b[0m \u001b[37m━━━━━━━━━━━━━━━━━━━━\u001b[0m \u001b[1m0s\u001b[0m 22ms/step - accuracy: 1.0000 - loss: 0.1060\n",
      "Epoch 12: val_accuracy improved from 0.99010 to 1.00000, saving model to weights.best.keras\n",
      "\u001b[1m30/30\u001b[0m \u001b[32m━━━━━━━━━━━━━━━━━━━━\u001b[0m\u001b[37m\u001b[0m \u001b[1m0s\u001b[0m 4ms/step - accuracy: 0.9734 - loss: 0.1197 - val_accuracy: 1.0000 - val_loss: 0.0639\n",
      "Epoch 13/200\n",
      "\u001b[1m 1/30\u001b[0m \u001b[37m━━━━━━━━━━━━━━━━━━━━\u001b[0m \u001b[1m0s\u001b[0m 22ms/step - accuracy: 0.9375 - loss: 0.1684\n",
      "Epoch 13: val_accuracy did not improve from 1.00000\n",
      "\u001b[1m30/30\u001b[0m \u001b[32m━━━━━━━━━━━━━━━━━━━━\u001b[0m\u001b[37m\u001b[0m \u001b[1m0s\u001b[0m 3ms/step - accuracy: 0.9736 - loss: 0.1101 - val_accuracy: 1.0000 - val_loss: 0.0528\n",
      "Epoch 14/200\n",
      "\u001b[1m 1/30\u001b[0m \u001b[37m━━━━━━━━━━━━━━━━━━━━\u001b[0m \u001b[1m0s\u001b[0m 21ms/step - accuracy: 0.9375 - loss: 0.1384\n",
      "Epoch 14: val_accuracy did not improve from 1.00000\n",
      "\u001b[1m30/30\u001b[0m \u001b[32m━━━━━━━━━━━━━━━━━━━━\u001b[0m\u001b[37m\u001b[0m \u001b[1m0s\u001b[0m 3ms/step - accuracy: 0.9732 - loss: 0.0953 - val_accuracy: 1.0000 - val_loss: 0.0461\n",
      "Epoch 15/200\n",
      "\u001b[1m30/30\u001b[0m \u001b[32m━━━━━━━━━━━━━━━━━━━━\u001b[0m\u001b[37m\u001b[0m \u001b[1m0s\u001b[0m 2ms/step - accuracy: 0.9855 - loss: 0.0824 \n",
      "Epoch 15: val_accuracy did not improve from 1.00000\n",
      "\u001b[1m30/30\u001b[0m \u001b[32m━━━━━━━━━━━━━━━━━━━━\u001b[0m\u001b[37m\u001b[0m \u001b[1m0s\u001b[0m 3ms/step - accuracy: 0.9852 - loss: 0.0830 - val_accuracy: 1.0000 - val_loss: 0.0411\n",
      "Epoch 16/200\n",
      "\u001b[1m29/30\u001b[0m \u001b[32m━━━━━━━━━━━━━━━━━━━\u001b[0m\u001b[37m━\u001b[0m \u001b[1m0s\u001b[0m 2ms/step - accuracy: 0.9799 - loss: 0.0757 \n",
      "Epoch 16: val_accuracy did not improve from 1.00000\n",
      "\u001b[1m30/30\u001b[0m \u001b[32m━━━━━━━━━━━━━━━━━━━━\u001b[0m\u001b[37m\u001b[0m \u001b[1m0s\u001b[0m 3ms/step - accuracy: 0.9805 - loss: 0.0752 - val_accuracy: 1.0000 - val_loss: 0.0340\n",
      "Epoch 17/200\n",
      "\u001b[1m 1/30\u001b[0m \u001b[37m━━━━━━━━━━━━━━━━━━━━\u001b[0m \u001b[1m0s\u001b[0m 23ms/step - accuracy: 0.9375 - loss: 0.2041\n",
      "Epoch 17: val_accuracy did not improve from 1.00000\n",
      "\u001b[1m30/30\u001b[0m \u001b[32m━━━━━━━━━━━━━━━━━━━━\u001b[0m\u001b[37m\u001b[0m \u001b[1m0s\u001b[0m 3ms/step - accuracy: 0.9731 - loss: 0.0898 - val_accuracy: 1.0000 - val_loss: 0.0332\n",
      "Epoch 18/200\n",
      "\u001b[1m 1/30\u001b[0m \u001b[37m━━━━━━━━━━━━━━━━━━━━\u001b[0m \u001b[1m0s\u001b[0m 22ms/step - accuracy: 0.9375 - loss: 0.1861\n",
      "Epoch 18: val_accuracy did not improve from 1.00000\n",
      "\u001b[1m30/30\u001b[0m \u001b[32m━━━━━━━━━━━━━━━━━━━━\u001b[0m\u001b[37m\u001b[0m \u001b[1m0s\u001b[0m 3ms/step - accuracy: 0.9712 - loss: 0.0921 - val_accuracy: 1.0000 - val_loss: 0.0270\n",
      "Epoch 19/200\n",
      "\u001b[1m 1/30\u001b[0m \u001b[37m━━━━━━━━━━━━━━━━━━━━\u001b[0m \u001b[1m0s\u001b[0m 24ms/step - accuracy: 1.0000 - loss: 0.0612\n",
      "Epoch 19: val_accuracy did not improve from 1.00000\n",
      "\u001b[1m30/30\u001b[0m \u001b[32m━━━━━━━━━━━━━━━━━━━━\u001b[0m\u001b[37m\u001b[0m \u001b[1m0s\u001b[0m 3ms/step - accuracy: 0.9781 - loss: 0.0742 - val_accuracy: 1.0000 - val_loss: 0.0250\n",
      "Epoch 20/200\n",
      "\u001b[1m 1/30\u001b[0m \u001b[37m━━━━━━━━━━━━━━━━━━━━\u001b[0m \u001b[1m1s\u001b[0m 67ms/step - accuracy: 1.0000 - loss: 0.0250\n",
      "Epoch 20: val_accuracy did not improve from 1.00000\n",
      "\u001b[1m30/30\u001b[0m \u001b[32m━━━━━━━━━━━━━━━━━━━━\u001b[0m\u001b[37m\u001b[0m \u001b[1m0s\u001b[0m 4ms/step - accuracy: 0.9886 - loss: 0.0667 - val_accuracy: 1.0000 - val_loss: 0.0212\n",
      "Epoch 21/200\n",
      "\u001b[1m 1/30\u001b[0m \u001b[37m━━━━━━━━━━━━━━━━━━━━\u001b[0m \u001b[1m0s\u001b[0m 21ms/step - accuracy: 1.0000 - loss: 0.0874\n",
      "Epoch 21: val_accuracy did not improve from 1.00000\n",
      "\u001b[1m30/30\u001b[0m \u001b[32m━━━━━━━━━━━━━━━━━━━━\u001b[0m\u001b[37m\u001b[0m \u001b[1m0s\u001b[0m 3ms/step - accuracy: 0.9921 - loss: 0.0598 - val_accuracy: 1.0000 - val_loss: 0.0187\n",
      "Epoch 22/200\n",
      "\u001b[1m 1/30\u001b[0m \u001b[37m━━━━━━━━━━━━━━━━━━━━\u001b[0m \u001b[1m0s\u001b[0m 21ms/step - accuracy: 1.0000 - loss: 0.0056\n",
      "Epoch 22: val_accuracy did not improve from 1.00000\n",
      "\u001b[1m30/30\u001b[0m \u001b[32m━━━━━━━━━━━━━━━━━━━━\u001b[0m\u001b[37m\u001b[0m \u001b[1m0s\u001b[0m 4ms/step - accuracy: 0.9811 - loss: 0.0557 - val_accuracy: 1.0000 - val_loss: 0.0173\n",
      "Epoch 23/200\n",
      "\u001b[1m21/30\u001b[0m \u001b[32m━━━━━━━━━━━━━━\u001b[0m\u001b[37m━━━━━━\u001b[0m \u001b[1m0s\u001b[0m 3ms/step - accuracy: 0.9860 - loss: 0.0594 \n",
      "Epoch 23: val_accuracy did not improve from 1.00000\n",
      "\u001b[1m30/30\u001b[0m \u001b[32m━━━━━━━━━━━━━━━━━━━━\u001b[0m\u001b[37m\u001b[0m \u001b[1m0s\u001b[0m 4ms/step - accuracy: 0.9856 - loss: 0.0600 - val_accuracy: 1.0000 - val_loss: 0.0158\n",
      "Epoch 24/200\n",
      "\u001b[1m 1/30\u001b[0m \u001b[37m━━━━━━━━━━━━━━━━━━━━\u001b[0m \u001b[1m0s\u001b[0m 21ms/step - accuracy: 1.0000 - loss: 0.0673\n",
      "Epoch 24: val_accuracy did not improve from 1.00000\n",
      "\u001b[1m30/30\u001b[0m \u001b[32m━━━━━━━━━━━━━━━━━━━━\u001b[0m\u001b[37m\u001b[0m \u001b[1m0s\u001b[0m 3ms/step - accuracy: 0.9799 - loss: 0.0658 - val_accuracy: 1.0000 - val_loss: 0.0139\n",
      "Epoch 25/200\n",
      "\u001b[1m21/30\u001b[0m \u001b[32m━━━━━━━━━━━━━━\u001b[0m\u001b[37m━━━━━━\u001b[0m \u001b[1m0s\u001b[0m 3ms/step - accuracy: 0.9897 - loss: 0.0342 \n",
      "Epoch 25: val_accuracy did not improve from 1.00000\n",
      "\u001b[1m30/30\u001b[0m \u001b[32m━━━━━━━━━━━━━━━━━━━━\u001b[0m\u001b[37m\u001b[0m \u001b[1m0s\u001b[0m 5ms/step - accuracy: 0.9883 - loss: 0.0369 - val_accuracy: 1.0000 - val_loss: 0.0145\n",
      "Epoch 26/200\n",
      "\u001b[1m21/30\u001b[0m \u001b[32m━━━━━━━━━━━━━━\u001b[0m\u001b[37m━━━━━━\u001b[0m \u001b[1m0s\u001b[0m 3ms/step - accuracy: 0.9878 - loss: 0.0545 \n",
      "Epoch 26: val_accuracy did not improve from 1.00000\n",
      "\u001b[1m30/30\u001b[0m \u001b[32m━━━━━━━━━━━━━━━━━━━━\u001b[0m\u001b[37m\u001b[0m \u001b[1m0s\u001b[0m 4ms/step - accuracy: 0.9871 - loss: 0.0531 - val_accuracy: 1.0000 - val_loss: 0.0111\n",
      "Epoch 27/200\n",
      "\u001b[1m 1/30\u001b[0m \u001b[37m━━━━━━━━━━━━━━━━━━━━\u001b[0m \u001b[1m0s\u001b[0m 34ms/step - accuracy: 1.0000 - loss: 0.0334\n",
      "Epoch 27: val_accuracy did not improve from 1.00000\n",
      "\u001b[1m30/30\u001b[0m \u001b[32m━━━━━━━━━━━━━━━━━━━━\u001b[0m\u001b[37m\u001b[0m \u001b[1m0s\u001b[0m 4ms/step - accuracy: 0.9923 - loss: 0.0335 - val_accuracy: 1.0000 - val_loss: 0.0100\n",
      "Epoch 28/200\n",
      "\u001b[1m26/30\u001b[0m \u001b[32m━━━━━━━━━━━━━━━━━\u001b[0m\u001b[37m━━━\u001b[0m \u001b[1m0s\u001b[0m 2ms/step - accuracy: 0.9899 - loss: 0.0325 \n",
      "Epoch 28: val_accuracy did not improve from 1.00000\n",
      "\u001b[1m30/30\u001b[0m \u001b[32m━━━━━━━━━━━━━━━━━━━━\u001b[0m\u001b[37m\u001b[0m \u001b[1m0s\u001b[0m 3ms/step - accuracy: 0.9887 - loss: 0.0339 - val_accuracy: 1.0000 - val_loss: 0.0116\n",
      "Epoch 29/200\n",
      "\u001b[1m26/30\u001b[0m \u001b[32m━━━━━━━━━━━━━━━━━\u001b[0m\u001b[37m━━━\u001b[0m \u001b[1m0s\u001b[0m 2ms/step - accuracy: 0.9913 - loss: 0.0309 \n",
      "Epoch 29: val_accuracy did not improve from 1.00000\n",
      "\u001b[1m30/30\u001b[0m \u001b[32m━━━━━━━━━━━━━━━━━━━━\u001b[0m\u001b[37m\u001b[0m \u001b[1m0s\u001b[0m 3ms/step - accuracy: 0.9914 - loss: 0.0317 - val_accuracy: 1.0000 - val_loss: 0.0084\n",
      "Epoch 30/200\n",
      "\u001b[1m28/30\u001b[0m \u001b[32m━━━━━━━━━━━━━━━━━━\u001b[0m\u001b[37m━━\u001b[0m \u001b[1m0s\u001b[0m 2ms/step - accuracy: 1.0000 - loss: 0.0257 \n",
      "Epoch 30: val_accuracy did not improve from 1.00000\n",
      "\u001b[1m30/30\u001b[0m \u001b[32m━━━━━━━━━━━━━━━━━━━━\u001b[0m\u001b[37m\u001b[0m \u001b[1m0s\u001b[0m 3ms/step - accuracy: 0.9998 - loss: 0.0268 - val_accuracy: 1.0000 - val_loss: 0.0078\n",
      "Epoch 31/200\n",
      "\u001b[1m20/30\u001b[0m \u001b[32m━━━━━━━━━━━━━\u001b[0m\u001b[37m━━━━━━━\u001b[0m \u001b[1m0s\u001b[0m 3ms/step - accuracy: 0.9904 - loss: 0.0400 \n",
      "Epoch 31: val_accuracy did not improve from 1.00000\n",
      "\u001b[1m30/30\u001b[0m \u001b[32m━━━━━━━━━━━━━━━━━━━━\u001b[0m\u001b[37m\u001b[0m \u001b[1m0s\u001b[0m 4ms/step - accuracy: 0.9903 - loss: 0.0416 - val_accuracy: 1.0000 - val_loss: 0.0081\n",
      "Epoch 32/200\n",
      "\u001b[1m29/30\u001b[0m \u001b[32m━━━━━━━━━━━━━━━━━━━\u001b[0m\u001b[37m━\u001b[0m \u001b[1m0s\u001b[0m 2ms/step - accuracy: 0.9878 - loss: 0.0409 \n",
      "Epoch 32: val_accuracy did not improve from 1.00000\n",
      "\u001b[1m30/30\u001b[0m \u001b[32m━━━━━━━━━━━━━━━━━━━━\u001b[0m\u001b[37m\u001b[0m \u001b[1m0s\u001b[0m 4ms/step - accuracy: 0.9879 - loss: 0.0405 - val_accuracy: 1.0000 - val_loss: 0.0075\n",
      "-----------------EVALUATION----------------\n",
      "\u001b[1m4/4\u001b[0m \u001b[32m━━━━━━━━━━━━━━━━━━━━\u001b[0m\u001b[37m\u001b[0m \u001b[1m0s\u001b[0m 2ms/step - accuracy: 1.0000 - loss: 0.0059 \n"
     ]
    },
    {
     "name": "stderr",
     "output_type": "stream",
     "text": [
      "WARNING:absl:You are saving your model as an HDF5 file via `model.save()` or `keras.saving.save_model(model)`. This file format is considered legacy. We recommend using instead the native Keras format, e.g. `model.save('my_model.keras')` or `keras.saving.save_model(model, 'my_model.keras')`. \n"
     ]
    },
    {
     "name": "stdout",
     "output_type": "stream",
     "text": [
      "LOSS:  0.005881540477275848\n",
      "ACCURACY:  1.0\n",
      "failed to lookup keras version from the file,\n",
      "    this is likely a weight only file\n",
      "tfjs model saved at  model\n"
     ]
    }
   ],
   "source": [
    "# Start training\n",
    "print('--------------TRAINING----------------')\n",
    "history = model.fit(processed_X_train, y_train,\n",
    "                    epochs=200,\n",
    "                    batch_size=16,\n",
    "                    validation_data=(processed_X_val, y_val),\n",
    "                    callbacks=[checkpoint, earlystopping])\n",
    "\n",
    "\n",
    "print('-----------------EVALUATION----------------')\n",
    "loss, accuracy = model.evaluate(processed_X_test, y_test)\n",
    "print('LOSS: ', loss)\n",
    "print(\"ACCURACY: \", accuracy)\n",
    "\n",
    "\n",
    "tfjs.converters.save_keras_model(model, tfjs_model_dir)\n",
    "print('tfjs model saved at ',tfjs_model_dir)\n"
   ]
  }
 ],
 "metadata": {
  "kernelspec": {
   "display_name": "Python 3",
   "language": "python",
   "name": "python3"
  },
  "language_info": {
   "codemirror_mode": {
    "name": "ipython",
    "version": 3
   },
   "file_extension": ".py",
   "mimetype": "text/x-python",
   "name": "python",
   "nbconvert_exporter": "python",
   "pygments_lexer": "ipython3",
   "version": "3.10.12"
  }
 },
 "nbformat": 4,
 "nbformat_minor": 2
}
